{
 "cells": [
  {
   "cell_type": "code",
   "execution_count": 1,
   "id": "851c4a88",
   "metadata": {},
   "outputs": [
    {
     "name": "stdout",
     "output_type": "stream",
     "text": [
      "200\n"
     ]
    }
   ],
   "source": [
    "import requests\n",
    "response = requests.get(\"https://codingninjas.in/api/v3/events\")\n",
    "print(response.status_code)"
   ]
  },
  {
   "cell_type": "code",
   "execution_count": 2,
   "id": "0a916ea5",
   "metadata": {},
   "outputs": [
    {
     "name": "stdout",
     "output_type": "stream",
     "text": [
      "{'Content-Type': 'text/html', 'Transfer-Encoding': 'chunked', 'Connection': 'keep-alive', 'x-amz-id-2': '1lcJ+QPRFK1dx2EPpVbia4Y33pRcFMzOCXmJQe2Eux7cLlxMOcnHsjrOTYrJkY6D2mSswVMYcBY=', 'x-amz-request-id': 'WB1CG3SD3YP7YCX8', 'Last-Modified': 'Fri, 13 Oct 2023 11:04:51 GMT', 'Server': 'AmazonS3', 'Content-Encoding': 'br', 'Date': 'Sat, 14 Oct 2023 11:11:59 GMT', 'ETag': 'W/\"78f6fc8cb9dea5637d4d978246d5eb55\"', 'Vary': 'Accept-Encoding', 'X-Cache': 'Hit from cloudfront', 'Via': '1.1 9c95753b25d8166b48d0149e60434984.cloudfront.net (CloudFront)', 'X-Amz-Cf-Pop': 'BLR50-P2', 'X-Amz-Cf-Id': 'jCc2vQSAmHHYwVli-R-6Qc5UaNjfkgWGfQKbUFah1I5fehwy5Wz4bg==', 'Age': '9776', 'cache-control': 'must-revalidate, max-age=300'}\n"
     ]
    }
   ],
   "source": [
    "print(response.headers)"
   ]
  },
  {
   "cell_type": "code",
   "execution_count": 3,
   "id": "a4515ff2",
   "metadata": {},
   "outputs": [
    {
     "name": "stdout",
     "output_type": "stream",
     "text": [
      "Sat, 14 Oct 2023 11:11:59 GMT\n"
     ]
    }
   ],
   "source": [
    "headers = response.headers\n",
    "print(headers['Date'])"
   ]
  },
  {
   "cell_type": "code",
   "execution_count": 4,
   "id": "fc9196d2",
   "metadata": {},
   "outputs": [
    {
     "name": "stdout",
     "output_type": "stream",
     "text": [
      "https://www.codingninjas.com:443/\n"
     ]
    }
   ],
   "source": [
    "print(response.url)"
   ]
  },
  {
   "cell_type": "code",
   "execution_count": 5,
   "id": "9f342914",
   "metadata": {},
   "outputs": [
    {
     "name": "stdout",
     "output_type": "stream",
     "text": [
      "ISO-8859-1\n"
     ]
    }
   ],
   "source": [
    "print(response.encoding)"
   ]
  },
  {
   "cell_type": "code",
   "execution_count": 7,
   "id": "f3de1f46",
   "metadata": {},
   "outputs": [
    {
     "name": "stdout",
     "output_type": "stream",
     "text": [
      "<class 'str'>\n"
     ]
    }
   ],
   "source": [
    "print(type(response.text))"
   ]
  },
  {
   "cell_type": "code",
   "execution_count": null,
   "id": "542c204f",
   "metadata": {},
   "outputs": [],
   "source": []
  },
  {
   "cell_type": "markdown",
   "id": "54f457b5",
   "metadata": {},
   "source": [
    "# Json Formate"
   ]
  },
  {
   "cell_type": "code",
   "execution_count": 10,
   "id": "807d51ef",
   "metadata": {},
   "outputs": [
    {
     "name": "stdout",
     "output_type": "stream",
     "text": [
      "{'student': 'Mohit'}\n",
      "Mohit\n"
     ]
    }
   ],
   "source": [
    "import json\n",
    "json_data = '{\"student\":\"Mohit\"}'\n",
    "python_data = json.loads(json_data)\n",
    "print(python_data)\n",
    "print(python_data['student'])"
   ]
  },
  {
   "cell_type": "code",
   "execution_count": 12,
   "id": "0c27fe20",
   "metadata": {},
   "outputs": [
    {
     "name": "stdout",
     "output_type": "stream",
     "text": [
      "{'student': None}\n",
      "None\n"
     ]
    }
   ],
   "source": [
    "import json\n",
    "json_data = '{\"student\":null}'\n",
    "python_data = json.loads(json_data)\n",
    "print(python_data)\n",
    "print(python_data['student'])"
   ]
  },
  {
   "cell_type": "code",
   "execution_count": 13,
   "id": "af5c6e94",
   "metadata": {},
   "outputs": [
    {
     "name": "stdout",
     "output_type": "stream",
     "text": [
      "Mohit\n",
      "101\n"
     ]
    }
   ],
   "source": [
    "json_data = '{\"student\":{\"Name\":\"Mohit\",\"Roll_No\":101}}'\n",
    "python_data = json.loads(json_data)\n",
    "student_details = python_data['student']\n",
    "print(student_details['Name'])\n",
    "print(student_details['Roll_No'])"
   ]
  },
  {
   "cell_type": "code",
   "execution_count": 15,
   "id": "b369d556",
   "metadata": {},
   "outputs": [
    {
     "name": "stdout",
     "output_type": "stream",
     "text": [
      "<class 'list'>\n",
      "Apple\n",
      "Orange\n",
      "Mango\n",
      "Guava\n"
     ]
    }
   ],
   "source": [
    "json_data ='{\"Fruits\":[\"Apple\",\"Orange\",\"Mango\",\"Guava\"]}'\n",
    "python_data = json.loads(json_data)\n",
    "print(type(python_data['Fruits']))\n",
    "for i in python_data['Fruits']:\n",
    "    print(i)"
   ]
  },
  {
   "cell_type": "code",
   "execution_count": null,
   "id": "0fb75b36",
   "metadata": {},
   "outputs": [],
   "source": []
  },
  {
   "cell_type": "code",
   "execution_count": null,
   "id": "8ea50cf0",
   "metadata": {},
   "outputs": [],
   "source": [
    " \n",
    "\n"
   ]
  },
  {
   "cell_type": "code",
   "execution_count": null,
   "id": "7b43d61a",
   "metadata": {},
   "outputs": [],
   "source": []
  }
 ],
 "metadata": {
  "kernelspec": {
   "display_name": "Python 3 (ipykernel)",
   "language": "python",
   "name": "python3"
  },
  "language_info": {
   "codemirror_mode": {
    "name": "ipython",
    "version": 3
   },
   "file_extension": ".py",
   "mimetype": "text/x-python",
   "name": "python",
   "nbconvert_exporter": "python",
   "pygments_lexer": "ipython3",
   "version": "3.10.9"
  }
 },
 "nbformat": 4,
 "nbformat_minor": 5
}
